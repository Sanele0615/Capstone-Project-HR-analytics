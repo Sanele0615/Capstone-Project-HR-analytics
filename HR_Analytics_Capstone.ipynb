{
 "cells": [
  {
   "cell_type": "code",
   "execution_count": null,
   "id": "8acbe1a9",
   "metadata": {},
   "outputs": [],
   "source": [
    "# HR Analytics Capstone Project\n",
    "\n",
    "# 📦 Step 1: Import Libraries\n",
    "import pandas as pd\n",
    "import numpy as np\n",
    "import matplotlib.pyplot as plt\n",
    "import seaborn as sns\n",
    "from sklearn.preprocessing import LabelEncoder\n",
    "from sklearn.model_selection import train_test_split\n",
    "from sklearn.ensemble import RandomForestClassifier\n",
    "from sklearn.metrics import classification_report, confusion_matrix\n"
   ]
  },
  {
   "cell_type": "code",
   "execution_count": null,
   "id": "ebb6b7f5",
   "metadata": {},
   "outputs": [],
   "source": [
    "# 📥 Step 2: Load Data\n",
    "file_path = \"hr_analytics (1).csv\"\n",
    "df = pd.read_csv(file_path)\n",
    "df.head()\n"
   ]
  },
  {
   "cell_type": "code",
   "execution_count": null,
   "id": "3e922ec8",
   "metadata": {},
   "outputs": [],
   "source": [
    "# 🔍 Step 3: Exploratory Data Analysis (EDA)\n",
    "print(df.info())\n",
    "print(df.describe(include='all'))\n",
    "sns.countplot(data=df, x='Attrition')\n",
    "plt.title(\"Attrition Count\")\n",
    "plt.show()\n",
    "plt.figure(figsize=(10, 6))\n",
    "sns.heatmap(df.corr(numeric_only=True), annot=True, cmap='coolwarm')\n",
    "plt.title(\"Feature Correlations\")\n",
    "plt.show()\n"
   ]
  },
  {
   "cell_type": "code",
   "execution_count": null,
   "id": "c7c54300",
   "metadata": {},
   "outputs": [],
   "source": [
    "# 💡 Step 4: Data Preprocessing\n",
    "le = LabelEncoder()\n",
    "df['Attrition'] = le.fit_transform(df['Attrition'])\n",
    "cat_cols = df.select_dtypes(include='object').columns.drop(['EmployeeID'])\n",
    "for col in cat_cols:\n",
    "    df[col] = le.fit_transform(df[col])\n",
    "X = df.drop(['Attrition', 'EmployeeID'], axis=1)\n",
    "y = df['Attrition']\n"
   ]
  },
  {
   "cell_type": "code",
   "execution_count": null,
   "id": "7d39b750",
   "metadata": {},
   "outputs": [],
   "source": [
    "# 🧪 Step 5: Train-Test Split\n",
    "X_train, X_test, y_train, y_test = train_test_split(X, y, test_size=0.2, random_state=42)\n"
   ]
  },
  {
   "cell_type": "code",
   "execution_count": null,
   "id": "0f002aae",
   "metadata": {},
   "outputs": [],
   "source": [
    "# 🧠 Step 6: Train Model\n",
    "clf = RandomForestClassifier(n_estimators=100, random_state=42)\n",
    "clf.fit(X_train, y_train)\n"
   ]
  },
  {
   "cell_type": "code",
   "execution_count": null,
   "id": "4c86be77",
   "metadata": {},
   "outputs": [],
   "source": [
    "# 🔍 Step 7: Evaluate Model\n",
    "y_pred = clf.predict(X_test)\n",
    "print(\"Confusion Matrix:\\n\", confusion_matrix(y_test, y_pred))\n",
    "print(\"Classification Report:\\n\", classification_report(y_test, y_pred))\n"
   ]
  },
  {
   "cell_type": "code",
   "execution_count": null,
   "id": "b99a23a0",
   "metadata": {},
   "outputs": [],
   "source": [
    "# 🎯 Step 8: Feature Importance\n",
    "importances = pd.Series(clf.feature_importances_, index=X.columns)\n",
    "importances.nlargest(10).plot(kind='barh')\n",
    "plt.title(\"Top 10 Feature Importances\")\n",
    "plt.show()\n"
   ]
  },
  {
   "cell_type": "code",
   "execution_count": null,
   "id": "9ba62a54",
   "metadata": {},
   "outputs": [],
   "source": [
    "# ✅ Step 9: Save Results for Power BI\n",
    "X_test_copy = X_test.copy()\n",
    "X_test_copy['PredictedAttrition'] = y_pred\n",
    "X_test_copy['ActualAttrition'] = y_test.values\n",
    "X_test_copy.to_csv(\"HR_Attrition_Predictions.csv\", index=False)\n",
    "print(\"Project Completed. Results saved to HR_Attrition_Predictions.csv\")\n"
   ]
  }
 ],
 "metadata": {},
 "nbformat": 4,
 "nbformat_minor": 5
}
